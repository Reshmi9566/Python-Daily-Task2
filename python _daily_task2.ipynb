{
 "cells": [
  {
   "cell_type": "code",
   "execution_count": 7,
   "id": "027a19c5",
   "metadata": {},
   "outputs": [
    {
     "name": "stdout",
     "output_type": "stream",
     "text": [
      "Enter age of first person : 45\n",
      "Enter age of second person : 67\n",
      "Enter age of third person : 34\n",
      "Oldest age : 67\n",
      "youngest age : 34\n"
     ]
    }
   ],
   "source": [
    "#QUESTION 1\n",
    "person1=int(input(\"Enter age of first person : \"))\n",
    "person2=int(input(\"Enter age of second person : \"))\n",
    "person3=int(input(\"Enter age of third person : \"))\n",
    "if person1>person2 and person2>person3:\n",
    "    print(f'Oldest age : {person1}')\n",
    "elif person2>person1 and person1>person3:\n",
    "    print(f'Oldest age : {person2}')\n",
    "else:\n",
    "    print(f'Oldest age : {person3}')\n",
    "if person1<person2 and person2<person3:\n",
    "    print(f'youngest age : {person1}')\n",
    "elif person2<person1 and person1<person3:\n",
    "    print(f'youngest age : {person2}')\n",
    "else:\n",
    "    print(f'youngest age : {person3}')    "
   ]
  },
  {
   "cell_type": "code",
   "execution_count": 18,
   "id": "7a158b6d",
   "metadata": {},
   "outputs": [
    {
     "name": "stdout",
     "output_type": "stream",
     "text": [
      "Enter your Score : 75\n",
      "75 : C\n"
     ]
    }
   ],
   "source": [
    "#QUESTION 2\n",
    "score=int(input(\"Enter your Score : \"))\n",
    "if score>=90:\n",
    "    print(f'{score} : A')\n",
    "elif score>=80: \n",
    "    print(f'{score} : B')\n",
    "elif score>=70: \n",
    "    print(f'{score} : C')\n",
    "else:\n",
    "    print(f'{score} : F')\n",
    "    "
   ]
  },
  {
   "cell_type": "code",
   "execution_count": 22,
   "id": "76231047",
   "metadata": {},
   "outputs": [
    {
     "name": "stdout",
     "output_type": "stream",
     "text": [
      "enter number of items you wanted to buy : 4\n",
      "items : Carrot\n",
      "items : Banana\n",
      "items : Apple\n",
      "items : Cauliflower\n",
      "List of grocery items : \n",
      "['Apple', 'Banana', 'Carrot', 'Cauliflower']\n",
      "\n"
     ]
    }
   ],
   "source": [
    "#QUESTION 3\n",
    "num=int(input(\"enter number of items you wanted to buy : \"))\n",
    "list1=[]\n",
    "for i in range(num):\n",
    "    num1=input(\"items : \")\n",
    "    list1.append(num1)\n",
    "    list1.sort()\n",
    "print(f'List of grocery items : \\n{list1}\\n')"
   ]
  },
  {
   "cell_type": "code",
   "execution_count": 13,
   "id": "eb5f905f",
   "metadata": {},
   "outputs": [
    {
     "name": "stdout",
     "output_type": "stream",
     "text": [
      "Enter your email address : reshmi@gmail.com\n",
      "The email address is valid.\n"
     ]
    }
   ],
   "source": [
    "#QUESTION 4\n",
    "valid_domain=['gmail.com', 'yahoo.com', 'outlook.com', 'hotmail.com', 'live.com']\n",
    "email_id=input(\"Enter your email address : \")\n",
    "if \"@\" in email_id:\n",
    "    parts=email_id.split(\"@\")\n",
    "    if parts[1] in valid_domain:\n",
    "        print(\"The email address is valid.\")\n",
    "    else:\n",
    "        print(\"The domain of email is not valid.\")\n",
    "else:\n",
    "    print(\"The email address is invalid.\")\n",
    "    \n"
   ]
  },
  {
   "cell_type": "code",
   "execution_count": 11,
   "id": "9c1c7a0a",
   "metadata": {},
   "outputs": [
    {
     "name": "stdout",
     "output_type": "stream",
     "text": [
      "Enter the number of days you have delayed returning a library book : 35\n",
      "A fine of 5 rupees per day\n",
      "fine amount is 175\n"
     ]
    }
   ],
   "source": [
    "#QUESTION 5\n",
    "no_of_days = int(input(\"Enter the number of days you have delayed returning a library book : \"))\n",
    "if no_of_days<=7:\n",
    "    print(\"There is no fine\")\n",
    "elif no_of_days<=30:\n",
    "    print(\"A fine of 2 rupees per day\")\n",
    "    fine=2*no_of_days\n",
    "    print(f'fine amount is {fine}')\n",
    "else:\n",
    "    print(\"A fine of 5 rupees per day\")\n",
    "    fine1=5*no_of_days\n",
    "    print(f'fine amount is {fine1}')\n",
    "\n"
   ]
  },
  {
   "cell_type": "code",
   "execution_count": 5,
   "id": "1bacd813",
   "metadata": {},
   "outputs": [
    {
     "name": "stdout",
     "output_type": "stream",
     "text": [
      "Enter a character : g\n",
      "The given character is not a vowel\n"
     ]
    }
   ],
   "source": [
    "#QUESTION 6\n",
    "number=input(\"Enter a character : \")\n",
    "vow=\"aeiou\"\n",
    "if number in vow:\n",
    "    print(\"The given character is a vowel\")\n",
    "else:\n",
    "    print(\"The given character is not a vowel\")"
   ]
  },
  {
   "cell_type": "code",
   "execution_count": 10,
   "id": "2f8e90f5",
   "metadata": {},
   "outputs": [
    {
     "name": "stdout",
     "output_type": "stream",
     "text": [
      "Enter a number : 6\n",
      "factorial(6) : 720\n"
     ]
    }
   ],
   "source": [
    "#QUESTION 7\n",
    "num1=int(input(\"Enter a number : \"))\n",
    "fact=1\n",
    "if num1<0:\n",
    "    print(\"factorial is not defined for negative numbers\")\n",
    "elif num1==0:\n",
    "     print(f' factorial({num1}) : {1}')\n",
    "else:\n",
    "    for i in range(1,num1+1):\n",
    "        fact*=i\n",
    "    print(f'factorial({num1}) : {fact}')\n",
    "        \n",
    "    "
   ]
  },
  {
   "cell_type": "code",
   "execution_count": 13,
   "id": "5682731c",
   "metadata": {},
   "outputs": [
    {
     "name": "stdout",
     "output_type": "stream",
     "text": [
      "Enter number of elements for fibonacci series : 7\n",
      "[0, 1, 1, 2, 3, 5, 8]\n"
     ]
    }
   ],
   "source": [
    "#QUESTION 8\n",
    "n=int(input(\"Enter number of elements for fibonacci series : \"))\n",
    "a=[0,1]\n",
    "for i in range(n):\n",
    "    if n>len(a):\n",
    "        a.append(a[-1]+a[-2])\n",
    "print(a)"
   ]
  },
  {
   "cell_type": "code",
   "execution_count": 19,
   "id": "2c4264c5",
   "metadata": {},
   "outputs": [
    {
     "name": "stdout",
     "output_type": "stream",
     "text": [
      "Enter your guessing value : 9\n",
      "Your value is little smaller! try again\n",
      "Enter your guessing value : 52\n",
      "Your value is little larger! try again\n",
      "Enter your guessing value : 31\n",
      "Your value is little larger! try again\n",
      "Enter your guessing value : 25\n",
      "Your value is little smaller! try again\n",
      "Enter your guessing value : 27\n",
      "Your value is little smaller! try again\n",
      "Out of Attempts!\n"
     ]
    }
   ],
   "source": [
    "#QUESTION 9\n",
    "import random\n",
    "number=random.randint(1,50)\n",
    "attempts=5\n",
    "for i in range(attempts):\n",
    "    user_value=int(input(\"Enter your guessing value : \"))\n",
    "    if user_value<number:\n",
    "        print(\"Your value is little smaller! try again\")\n",
    "    elif user_value>number:\n",
    "        print(\"Your value is little larger! try again\")\n",
    "    else:\n",
    "        print(\"Hooray! You're the Champion!\")\n",
    "else:\n",
    "    print(\"Out of Attempts!\")"
   ]
  },
  {
   "cell_type": "code",
   "execution_count": 3,
   "id": "52ee6a50",
   "metadata": {},
   "outputs": [
    {
     "name": "stdout",
     "output_type": "stream",
     "text": [
      "1. Addition\n",
      "2. Subtraction\n",
      "3. Division\n",
      "4. Multiplication\n",
      "5. Exit\n",
      "Enter your choice of operation: 1\n",
      "Enter first number: 2\n",
      "Enter second number: 2\n",
      "4.0\n",
      "1. Addition\n",
      "2. Subtraction\n",
      "3. Division\n",
      "4. Multiplication\n",
      "5. Exit\n",
      "Enter your choice of operation: 2\n",
      "Enter first number: 3\n",
      "Enter second number: 5\n",
      "-2.0\n",
      "1. Addition\n",
      "2. Subtraction\n",
      "3. Division\n",
      "4. Multiplication\n",
      "5. Exit\n",
      "Enter your choice of operation: 3\n",
      "Enter first number: 6\n",
      "Enter second number: 2\n",
      "3.0\n",
      "1. Addition\n",
      "2. Subtraction\n",
      "3. Division\n",
      "4. Multiplication\n",
      "5. Exit\n",
      "Enter your choice of operation: 4\n",
      "Enter first number: 7\n",
      "Enter second number: 6\n",
      "42.0\n",
      "1. Addition\n",
      "2. Subtraction\n",
      "3. Division\n",
      "4. Multiplication\n",
      "5. Exit\n",
      "Enter your choice of operation: 5\n",
      "Exiting!\n"
     ]
    }
   ],
   "source": [
    "#QUESTION 10\n",
    "while True:\n",
    "    print(\"1. Addition\")\n",
    "    print(\"2. Subtraction\")\n",
    "    print(\"3. Division\")\n",
    "    print(\"4. Multiplication\")\n",
    "    print(\"5. Exit\")\n",
    "    oper = int(input(\"Enter your choice of operation: \"))\n",
    "    if oper in [1, 2, 3, 4]:\n",
    "        n1 = float(input(\"Enter first number: \"))\n",
    "        n2 = float(input(\"Enter second number: \"))\n",
    "        if oper == 1:\n",
    "            print(n1+n2)\n",
    "        elif oper == 2:\n",
    "            print(n1-n2)\n",
    "        elif oper == 3:\n",
    "            print(n1/n2)\n",
    "        elif oper == 4:\n",
    "            print(n1*n2)\n",
    "    elif oper == 5:\n",
    "        print(\"Exiting!\")\n",
    "        break\n",
    "    else:\n",
    "        print(\"Select correct operator \")\n"
   ]
  },
  {
   "cell_type": "code",
   "execution_count": null,
   "id": "5af7f9b7",
   "metadata": {},
   "outputs": [],
   "source": []
  }
 ],
 "metadata": {
  "kernelspec": {
   "display_name": "Python 3 (ipykernel)",
   "language": "python",
   "name": "python3"
  },
  "language_info": {
   "codemirror_mode": {
    "name": "ipython",
    "version": 3
   },
   "file_extension": ".py",
   "mimetype": "text/x-python",
   "name": "python",
   "nbconvert_exporter": "python",
   "pygments_lexer": "ipython3",
   "version": "3.9.12"
  }
 },
 "nbformat": 4,
 "nbformat_minor": 5
}
